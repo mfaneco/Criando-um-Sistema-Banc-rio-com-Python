{
 "cells": [
  {
   "cell_type": "markdown",
   "id": "cd73e31b-4528-46c6-bfe5-cfd798688cbb",
   "metadata": {},
   "source": [
    "## Operações para implementar: depósito, saque e extrato"
   ]
  },
  {
   "cell_type": "markdown",
   "id": "52b78a96-702e-4c5d-a9a0-4c888aa07549",
   "metadata": {},
   "source": [
    "### Sistema de 3 saques por dia com limite de R$500,00 por saque.\n",
    "#### Caso o usuário não tenha saldo em conta, o sistema deve exibir uma mensagem que não é possível sacar o dinheiro por falta de saldo.\n",
    "#### Os saques devem ser armazenados em uma variável e exibidos na operação de extrato.\n",
    "#### Extrato: Lista todos depósitos, saques da conta e no fim da listagem, deve ser exibido o saldo atual da conta."
   ]
  },
  {
   "cell_type": "code",
   "execution_count": 115,
   "id": "5c126164-50ff-45c5-94f9-9a1881b333d7",
   "metadata": {},
   "outputs": [
    {
     "name": "stdin",
     "output_type": "stream",
     "text": [
      "\n",
      "Escolha uma opção:\n",
      "[d] Depositar\n",
      "[s] Sacar\n",
      "[e] Extrato\n",
      "[q] Sair\n",
      "[nc] Nova Conta\n",
      "[lc] Listar Contas\n",
      "[nu] Novo Usuário\n",
      "Sua opção:  lc\n"
     ]
    },
    {
     "name": "stdout",
     "output_type": "stream",
     "text": [
      "=================Banco Matheus=================\n",
      "Nenhuma conta cadastrada.\n"
     ]
    }
   ],
   "source": [
    "def main():\n",
    "    agencia = '0001'\n",
    "    contador = 0\n",
    "    saldo = 0\n",
    "    limite = 500\n",
    "    extrato = \"\"\n",
    "    numero_saques = 0\n",
    "    LIMITE_SAQUES = 3\n",
    "    usuarios = []\n",
    "    contas = []\n",
    "\n",
    "    while True:\n",
    "        opcao = menu()\n",
    "        \n",
    "        print(\"=================Banco Matheus=================\")\n",
    "        if opcao == \"d\":\n",
    "            valor = float(input(\"Informe o valor do depósito: R$\"))\n",
    "            saldo, extrato = depositar(saldo, valor, extrato)\n",
    "            \n",
    "        elif opcao == \"s\":\n",
    "            valor = float(input(\"Informe o valor do saque: R$\"))\n",
    "            saldo, extrato = sacar(\n",
    "                saldo=saldo,\n",
    "                valor=valor,\n",
    "                extrato=extrato,\n",
    "                limite=limite,\n",
    "                numero_saques=numero_saques,\n",
    "                limite_saques=LIMITE_SAQUES)\n",
    "    \n",
    "        elif opcao == \"e\":\n",
    "           exibir_extrato(saldo, extrato=extrato)\n",
    "\n",
    "        elif opcao == \"nu\":\n",
    "            criar_usuario(usuarios)\n",
    "\n",
    "        elif opcao == \"lc\":\n",
    "                if not contas:\n",
    "                    print(\"Nenhuma conta cadastrada.\")\n",
    "                return\n",
    "        \n",
    "                for i, conta in enumerate(contas, start=1):\n",
    "                    print(f\"Conta {i}:\")\n",
    "                for chave, valor in conta.items():\n",
    "                    print(f\"{chave.capitalize()}: {valor}\")\n",
    "                print(\"-\" * 30)\n",
    "\n",
    "        elif opcao == 'nc':\n",
    "            numero_conta = len(contas) + 1\n",
    "            conta = criar_conta(agencia, numero_conta, usuarios)\n",
    "        \n",
    "        elif opcao == \"q\":\n",
    "            break\n",
    "        else:\n",
    "            print(\"Opção inválida, por favor selecione novamente a opção desejada\")\n",
    "if __name__ == \"__main__\":\n",
    "    main()"
   ]
  },
  {
   "cell_type": "code",
   "execution_count": 66,
   "id": "fd918151-19d2-4e09-b302-7541089bf4a7",
   "metadata": {},
   "outputs": [],
   "source": [
    "def menu():\n",
    "    \"\"\"\n",
    "    Função que exibe o menu de opções para o usuário.\n",
    "    \"\"\"\n",
    "    return input(\"\"\"\n",
    "Escolha uma opção:\n",
    "[d] Depositar\n",
    "[s] Sacar\n",
    "[e] Extrato\n",
    "[q] Sair\n",
    "[nc] Nova Conta\n",
    "[lc] Listar Contas\n",
    "[nu] Novo Usuário\n",
    "Sua opção: \"\"\")"
   ]
  },
  {
   "cell_type": "code",
   "execution_count": 96,
   "id": "ac748314-e931-4f67-b1ea-9c116b23e2b8",
   "metadata": {},
   "outputs": [],
   "source": [
    "def listar_contas(contas):\n",
    "    for conta in contas:\n",
    "        linha = f\"\"\"\\n\n",
    "        Agência:\\n{conta[\"agencia\"]}\n",
    "        C/C:/n/n{conta[\"usuario\"][\"nome\"]}\n",
    "        \"\"\"\n",
    "        print(\"*\" * 100)\n",
    "        print(linha)"
   ]
  },
  {
   "cell_type": "code",
   "execution_count": 64,
   "id": "e6667c5e-89f1-4687-a032-0bbb48525c6e",
   "metadata": {},
   "outputs": [],
   "source": [
    "def depositar (valor, saldo, extrato, /):\n",
    "    if valor > 0:\n",
    "        saldo += valor\n",
    "        extrato += f'Depósito: R${valor:.2f}\\n'\n",
    "        print(f'Depósito realizado com sucesso!')\n",
    "    else:\n",
    "        print('Valor inválido, por gentileza, digite um valor válido!')"
   ]
  },
  {
   "cell_type": "code",
   "execution_count": null,
   "id": "701095e5-fbe0-409e-b17d-e3b6fce39068",
   "metadata": {},
   "outputs": [],
   "source": [
    "elif opcao == 'nc':\n",
    "    numero_conta = len(contas) + 1\n",
    "    conta = criar_conta(AGENCIA, numero_conta, usuarios)\n",
    "\n",
    "    if conta:\n",
    "        contas.append(conta)\n",
    "\n",
    "    elif opcao = 'lc':\n",
    "        listar_contas(contas)\n",
    "\n",
    "    elif opcao == 'q':\n",
    "        break\n",
    "\n",
    "    else:\n",
    "        print('Operação inválida, por favor selecione novamente a operação desejada.')"
   ]
  },
  {
   "cell_type": "code",
   "execution_count": 60,
   "id": "e967415e-a90e-4ac9-8449-98b2d3cea07e",
   "metadata": {},
   "outputs": [],
   "source": [
    "def sacar (*, saldo, valor, extrato, numero_saques, LIMITE_SAQUES):\n",
    "    excedeu_saldo = valor > saldo\n",
    "    excedeu_limite = valor > limite\n",
    "    excedeu_saques = numero_saques > LIMITE_SAQUES\n",
    "\n",
    "    if excedeu_saldo:\n",
    "        print('\\nA operação falhou! Você não tem saldo suficiente')\n",
    "    \n",
    "    elif excedeu_limite:\n",
    "        print('\\nA operação falhou! Você não tem limite!')\n",
    "\n",
    "    elif excedeu_saques:\n",
    "        print('\\nA operação falhou! Limite de saques diários excedido.')\n",
    "\n",
    "    elif valor > 0:\n",
    "        saldo -= valor\n",
    "        extrato -= f'Saque: R$ {valor:.2f}\\n'\n",
    "        numero_saques += 1\n",
    "        print(f'\\nSaque de: R${valor:.2f} realizado com sucesso!')\n",
    "\n",
    "    else:\n",
    "        print('Operação falhou! O valor informado é inválido!')\n",
    "    return saldo, extrato"
   ]
  },
  {
   "cell_type": "code",
   "execution_count": 88,
   "id": "370a11d3-b07f-4bc0-a483-40d5f95d9c0f",
   "metadata": {},
   "outputs": [],
   "source": [
    "def criar_usuario(usuarios):\n",
    "    cpf = input('Informe o CPF: (somente números): ')\n",
    "    usuario = filtrar_usuario(cpf, usuarios)\n",
    "\n",
    "    if usuario:\n",
    "        print('\\nJá existe um usuário com esse CPF!')\n",
    "        return\n",
    "    nome = input('Informe seu nome completo: ')\n",
    "    data_nascimento = input('Informe a data de nasscimento (dd-mm-aaaa):')\n",
    "    endereço = input('Informe o Endereco (logradouro, nro - bairro - cidade/sigla estado): ')\n",
    "\n",
    "    usuarios.append({\"Nome\": nome, \"data_nascimento\": data_nascimento, \"cpf\": cpf, \"endereço\": endereço})\n",
    "    print(\"Usuário criado com sucesso!\")"
   ]
  },
  {
   "cell_type": "code",
   "execution_count": 51,
   "id": "39ed070e-d89a-4179-b129-588d2970a35f",
   "metadata": {},
   "outputs": [],
   "source": [
    "def filtrar_usuario(cpf, usuarios):\n",
    "    usuarios_filtrados = [usuario for usuario in usuarios if usuario[\"cpf\"] == cpf]\n",
    "    return usuarios_filtrados [0] if usuarios_filtrados else None"
   ]
  },
  {
   "cell_type": "code",
   "execution_count": 53,
   "id": "fc1a5ff6-ac2f-46ee-9a59-a33b0fbe912d",
   "metadata": {},
   "outputs": [],
   "source": [
    "def criar_conta(agencia, numero_conta, usuarios):\n",
    "    cpf = input(\"Informe o CPF do usuário: \")\n",
    "    usuario = filtrar_usuario(cpf, usuarios)\n",
    "\n",
    "    if usuario:\n",
    "        print(\"\\nConta criada com sucesso!\")\n",
    "        return{\"agencia\":agencia, \"numero_conta\":numero_conta,\"usuario\":usuario}\n",
    "    print(\"Usuário não encontrado, fluxo de criação de conta encerrado!\")"
   ]
  },
  {
   "cell_type": "code",
   "execution_count": null,
   "id": "f4e88e59-927b-4f7d-b421-27a03b16191c",
   "metadata": {},
   "outputs": [],
   "source": []
  }
 ],
 "metadata": {
  "kernelspec": {
   "display_name": "Python 3 (ipykernel)",
   "language": "python",
   "name": "python3"
  },
  "language_info": {
   "codemirror_mode": {
    "name": "ipython",
    "version": 3
   },
   "file_extension": ".py",
   "mimetype": "text/x-python",
   "name": "python",
   "nbconvert_exporter": "python",
   "pygments_lexer": "ipython3",
   "version": "3.12.4"
  }
 },
 "nbformat": 4,
 "nbformat_minor": 5
}

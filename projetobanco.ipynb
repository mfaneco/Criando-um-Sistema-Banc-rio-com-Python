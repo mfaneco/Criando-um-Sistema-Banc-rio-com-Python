{
 "cells": [
  {
   "cell_type": "markdown",
   "id": "cd73e31b-4528-46c6-bfe5-cfd798688cbb",
   "metadata": {},
   "source": [
    "## Operações para implementar: depósito, saque e extrato"
   ]
  },
  {
   "cell_type": "markdown",
   "id": "52b78a96-702e-4c5d-a9a0-4c888aa07549",
   "metadata": {},
   "source": [
    "### Sistema de 3 saques por dia com limite de R$500,00 por saque.\n",
    "#### Caso o usuário não tenha saldo em conta, o sistema deve exibir uma mensagem que não é possível sacar o dinheiro por falta de saldo.\n",
    "#### Os saques devem ser armazenados em uma variável e exibidos na operação de extrato.\n",
    "#### Extrato: Lista todos depósitos, saques da conta e no fim da listagem, deve ser exibido o saldo atual da conta."
   ]
  },
  {
   "cell_type": "code",
   "execution_count": null,
   "id": "f662e099-973a-409b-8aec-7c3cd3076c52",
   "metadata": {},
   "outputs": [],
   "source": [
    "menu = \"\"\"\n",
    "[d] Depositar\n",
    "[s] Sacar\n",
    "[e] Extrato\n",
    "[q] Sair\n",
    ">= \"\"\""
   ]
  },
  {
   "cell_type": "code",
   "execution_count": null,
   "id": "efd55d2a-9411-4d42-8167-15c6d8d79228",
   "metadata": {},
   "outputs": [],
   "source": [
    "contador = 0\n",
    "saldo = 0\n",
    "limite = 500\n",
    "extrato = \"\"\n",
    "numero_saques = 0\n",
    "LIMITE_SAQUES = 3"
   ]
  },
  {
   "cell_type": "code",
   "execution_count": null,
   "id": "5c126164-50ff-45c5-94f9-9a1881b333d7",
   "metadata": {},
   "outputs": [],
   "source": [
    "while True:\n",
    "    opcao=input(menu)\n",
    "\n",
    "    if opcao == \"d\":\n",
    "        valor = float(input(\"Informe o valor do depósito: R$\"))\n",
    "        if valor > 0:\n",
    "            saldo+=valor\n",
    "            extrato += f\"\\nDepósito: R$ {valor:.2f}\\n\"\n",
    "            print(f\"Depósito de: R$ {valor:.2f}, realizado com sucesso!\\n\")\n",
    "            print(f\"Extrato:\\n{extrato}\\n\")\n",
    "            print(f'Seu saldo atual é de R${saldo:.2f}')\n",
    "        else:\n",
    "            print(\"A operação falhou, por gentileza, insira um valor válido\")\n",
    "    elif opcao == \"s\":\n",
    "        if contador >= limite_saque:\n",
    "            print(\"Limite de 3 saques diários atingido. Próximos saques disponiveis amanhã!\")\n",
    "        else:\n",
    "            valor = float(input(\"Informe o valor do saque: R$\"))\n",
    "            if valor > limite:\n",
    "                print(f'Você não pode realizar o saque de: R$ {valor:.2f}, pois o limite é de: R$ {limite:.2f} por saque.')\n",
    "            elif valor > saldo:\n",
    "                print(\"Saldo insuficiente para realizar o saque!\")\n",
    "            else:\n",
    "                saldo -= valor\n",
    "                contador += +1\n",
    "                extrato += f'Saque: R$ {valor:.2f}\\n'\n",
    "                print(f'Saque de: R$ {valor:.2f} concluído.\\n')\n",
    "                print(f'Extrato:\\n{extrato:}\\n')    \n",
    "                print(f'Saldo atual: R${saldo}')\n",
    "                print(f'Saques realizados hoje: {contador}/3')\n",
    "\n",
    "    elif opcao == \"e\":\n",
    "        print(\"\\n===============================Extrato===============================\")\n",
    "        if extrato:\n",
    "            print(extrato)\n",
    "            print(f'Valor em conta: R$ {saldo:.2f}')\n",
    "        else:\n",
    "            print(\"Nenhuma movimentação realizada.\")\n",
    "            print(f'Valor em conta: R$ {saldo:.2f}')\n",
    "        print(\"\\n======================================================================\")\n",
    "    elif opcao == \"q\":\n",
    "        break\n",
    "    else:\n",
    "        print(\"Opção inválida, por favor selecione novamente a opção desejada\")"
   ]
  },
  {
   "cell_type": "code",
   "execution_count": null,
   "id": "fd918151-19d2-4e09-b302-7541089bf4a7",
   "metadata": {},
   "outputs": [],
   "source": []
  }
 ],
 "metadata": {
  "kernelspec": {
   "display_name": "Python 3 (ipykernel)",
   "language": "python",
   "name": "python3"
  },
  "language_info": {
   "codemirror_mode": {
    "name": "ipython",
    "version": 3
   },
   "file_extension": ".py",
   "mimetype": "text/x-python",
   "name": "python",
   "nbconvert_exporter": "python",
   "pygments_lexer": "ipython3",
   "version": "3.12.7"
  }
 },
 "nbformat": 4,
 "nbformat_minor": 5
}
